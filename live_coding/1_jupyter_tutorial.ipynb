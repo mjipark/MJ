{
  "cells": [
    {
      "cell_type": "markdown",
      "metadata": {
        "id": "view-in-github",
        "colab_type": "text"
      },
      "source": [
        "<a href=\"https://colab.research.google.com/github/mjipark/MJ/blob/main/live_coding/1_jupyter_tutorial.ipynb\" target=\"_parent\"><img src=\"https://colab.research.google.com/assets/colab-badge.svg\" alt=\"Open In Colab\"/></a>"
      ]
    },
    {
      "cell_type": "markdown",
      "metadata": {
        "id": "1DO_LoIv23e3"
      },
      "source": [
        "# Jupyter Tutorial\n",
        "- Jupyter has two type of cells\n",
        "  - markdown: to write down some text\n",
        "  - code cell: to run the code\n",
        "- you can write text in markdown grammar\n",
        "\n",
        "### Different heading\n",
        "- You can make *italic* or **bold** font\n",
        "\n",
        "\n",
        "# Difference with Jupyter Notebook and Colab?\n",
        "- Jupyter notebook is interactive environment for Python and R\n",
        "- Colab is Jupyter + Google Cloud\n",
        "  - You can mount your google drive into Colab\n",
        "  - It provides some computing resource from google cloud\n"
      ]
    },
    {
      "cell_type": "markdown",
      "metadata": {
        "id": "Wpk1ZSZK27N9"
      },
      "source": [
        "### Run Code\n",
        "- It saves variable in its memory\n",
        "- The cells does not have to be run in its place order\n",
        "  - You can run cells in arbitrary order\n",
        "- To run the code, you can press the play button on the left side of the cell\n",
        "  - or control + enter\n",
        "  - or shift + enter: this automatically proceeds to next cell\n",
        "- If you define some variable, it will be recorded in the namespace\n",
        "- You can reset namespace by rebooting the notebook."
      ]
    },
    {
      "cell_type": "code",
      "source": [
        "a = 3\n",
        "b = 5\n",
        "\n",
        "print(a + b)\n"
      ],
      "metadata": {
        "colab": {
          "base_uri": "https://localhost:8080/"
        },
        "id": "OirLarNtYPUq",
        "outputId": "84fc3f17-3f2f-4684-e2b4-3a516f0402c6"
      },
      "execution_count": 1,
      "outputs": [
        {
          "output_type": "stream",
          "name": "stdout",
          "text": [
            "8\n"
          ]
        }
      ]
    },
    {
      "cell_type": "code",
      "execution_count": null,
      "metadata": {
        "id": "RbIaDBEt07S5",
        "colab": {
          "base_uri": "https://localhost:8080/"
        },
        "outputId": "4bd4359e-a656-4696-c952-f83f9642c357"
      },
      "outputs": [
        {
          "output_type": "stream",
          "name": "stdout",
          "text": [
            "Variable   Type        Data/Info\n",
            "--------------------------------\n",
            "a          int         3\n",
            "add        function    <function add at 0x7979090f9260>\n",
            "b          int         5\n"
          ]
        }
      ],
      "source": [
        "# % sign means special command for jupyter notebook\n",
        "# This command is not for python, but its for jupyter\n",
        "%whos"
      ]
    },
    {
      "cell_type": "code",
      "source": [
        "# you can define the function, and it will be on notebook status\n",
        "\n",
        "def add(x, y):\n",
        "  return x +\n",
        "add(a, b) == 8, add(1, 2) == 3"
      ],
      "metadata": {
        "id": "7f-rFdzSanCP"
      },
      "execution_count": null,
      "outputs": []
    },
    {
      "cell_type": "code",
      "execution_count": null,
      "metadata": {
        "id": "T1SzzSMo2pkK",
        "colab": {
          "base_uri": "https://localhost:8080/"
        },
        "outputId": "91182073-1e7c-4c4d-f9dc-e9e8e9433f8e"
      },
      "outputs": [
        {
          "output_type": "stream",
          "name": "stdout",
          "text": [
            "24\n",
            "31\n"
          ]
        }
      ],
      "source": [
        "# If you update variable, it will also recorded in the namespace\n",
        "\n",
        "print(a)\n",
        "a = a+7\n",
        "print(a)"
      ]
    },
    {
      "cell_type": "markdown",
      "metadata": {
        "id": "T2MRuS_M25IR"
      },
      "source": [
        "### Install Library or make Terminal Command\n",
        "- Colab has many default-installed libraries\n",
        "  - numpy, pandas, torch, tensorflow, matplotlib"
      ]
    },
    {
      "cell_type": "code",
      "execution_count": 36,
      "metadata": {
        "id": "CUesc2pX3f6s"
      },
      "outputs": [],
      "source": [
        "import numpy as np"
      ]
    },
    {
      "cell_type": "markdown",
      "metadata": {
        "id": "FFELu0Gs3sJQ"
      },
      "source": [
        "- You can install libraries with terminal command\n",
        "  - Terminal is for interacting with operating system (with only keyboard)\n",
        "  - To install libraries, you have to install it on OS, not on Python.\n",
        "\n",
        "- To make command to your OS as in terminal, you can use ! mark"
      ]
    },
    {
      "cell_type": "code",
      "source": [
        "# install library\n",
        "!pip install pretty_midi\n",
        "import pretty_midi"
      ],
      "metadata": {
        "colab": {
          "base_uri": "https://localhost:8080/"
        },
        "id": "Psj18KU7b6W_",
        "outputId": "c6c2285c-fdbc-410f-bd62-845beff81631"
      },
      "execution_count": 37,
      "outputs": [
        {
          "output_type": "stream",
          "name": "stdout",
          "text": [
            "Collecting pretty_midi\n",
            "  Downloading pretty_midi-0.2.11.tar.gz (5.6 MB)\n",
            "\u001b[?25l     \u001b[90m━━━━━━━━━━━━━━━━━━━━━━━━━━━━━━━━━━━━━━━━\u001b[0m \u001b[32m0.0/5.6 MB\u001b[0m \u001b[31m?\u001b[0m eta \u001b[36m-:--:--\u001b[0m\r\u001b[2K     \u001b[91m━━\u001b[0m\u001b[90m╺\u001b[0m\u001b[90m━━━━━━━━━━━━━━━━━━━━━━━━━━━━━━━━━━━━━\u001b[0m \u001b[32m0.3/5.6 MB\u001b[0m \u001b[31m9.3 MB/s\u001b[0m eta \u001b[36m0:00:01\u001b[0m\r\u001b[2K     \u001b[91m━━━━━━━━━━━━━━━━\u001b[0m\u001b[91m╸\u001b[0m\u001b[90m━━━━━━━━━━━━━━━━━━━━━━━\u001b[0m \u001b[32m2.4/5.6 MB\u001b[0m \u001b[31m34.2 MB/s\u001b[0m eta \u001b[36m0:00:01\u001b[0m\r\u001b[2K     \u001b[91m━━━━━━━━━━━━━━━━━━━━━━━━━━━━━━━━━━━━━━━\u001b[0m\u001b[91m╸\u001b[0m \u001b[32m5.6/5.6 MB\u001b[0m \u001b[31m65.2 MB/s\u001b[0m eta \u001b[36m0:00:01\u001b[0m\r\u001b[2K     \u001b[90m━━━━━━━━━━━━━━━━━━━━━━━━━━━━━━━━━━━━━━━━\u001b[0m \u001b[32m5.6/5.6 MB\u001b[0m \u001b[31m47.2 MB/s\u001b[0m eta \u001b[36m0:00:00\u001b[0m\n",
            "\u001b[?25h  Preparing metadata (setup.py) ... \u001b[?25l\u001b[?25hdone\n",
            "Requirement already satisfied: numpy>=1.7.0 in /usr/local/lib/python3.12/dist-packages (from pretty_midi) (2.0.2)\n",
            "Collecting mido>=1.1.16 (from pretty_midi)\n",
            "  Downloading mido-1.3.3-py3-none-any.whl.metadata (6.4 kB)\n",
            "Requirement already satisfied: six in /usr/local/lib/python3.12/dist-packages (from pretty_midi) (1.17.0)\n",
            "Requirement already satisfied: importlib_resources in /usr/local/lib/python3.12/dist-packages (from pretty_midi) (6.5.2)\n",
            "Requirement already satisfied: packaging in /usr/local/lib/python3.12/dist-packages (from mido>=1.1.16->pretty_midi) (25.0)\n",
            "Downloading mido-1.3.3-py3-none-any.whl (54 kB)\n",
            "\u001b[2K   \u001b[90m━━━━━━━━━━━━━━━━━━━━━━━━━━━━━━━━━━━━━━━━\u001b[0m \u001b[32m54.6/54.6 kB\u001b[0m \u001b[31m3.5 MB/s\u001b[0m eta \u001b[36m0:00:00\u001b[0m\n",
            "\u001b[?25hBuilding wheels for collected packages: pretty_midi\n",
            "  Building wheel for pretty_midi (setup.py) ... \u001b[?25l\u001b[?25hdone\n",
            "  Created wheel for pretty_midi: filename=pretty_midi-0.2.11-py3-none-any.whl size=5595886 sha256=3d9ae3fb66d01d80391d0a2188305cf809b585dcd853fc8069aaeb18c68419cf\n",
            "  Stored in directory: /root/.cache/pip/wheels/f4/ad/93/a7042fe12668827574927ade9deec7f29aad2a1001b1501882\n",
            "Successfully built pretty_midi\n",
            "Installing collected packages: mido, pretty_midi\n",
            "Successfully installed mido-1.3.3 pretty_midi-0.2.11\n"
          ]
        }
      ]
    },
    {
      "cell_type": "code",
      "execution_count": null,
      "metadata": {
        "id": "GskzHLVt3rvl",
        "colab": {
          "base_uri": "https://localhost:8080/"
        },
        "outputId": "5931fb7d-1fec-4dd7-a630-8ff8b0a74cd2"
      },
      "outputs": [
        {
          "output_type": "stream",
          "name": "stdout",
          "text": [
            "sample_data\n"
          ]
        }
      ],
      "source": [
        "# list the files of current directory\n",
        "!ls"
      ]
    },
    {
      "cell_type": "code",
      "execution_count": 3,
      "metadata": {
        "id": "MbVs9EKi4x2X",
        "colab": {
          "base_uri": "https://localhost:8080/"
        },
        "outputId": "ba2e6890-3745-46d7-8185-8fb2aebdefc9"
      },
      "outputs": [
        {
          "output_type": "stream",
          "name": "stdout",
          "text": [
            "mkdir: cannot create directory ‘new_empty_directory’: File exists\n"
          ]
        }
      ],
      "source": [
        "# make new empty directory\n",
        "!mkdir new_empty_directory"
      ]
    },
    {
      "cell_type": "code",
      "execution_count": null,
      "metadata": {
        "id": "xpo0xVXq47uo"
      },
      "outputs": [],
      "source": [
        "# install library with pip\n",
        "# pip is a package that helps to install python libraries\n"
      ]
    },
    {
      "cell_type": "markdown",
      "metadata": {
        "id": "4ZS1Qtw03B2r"
      },
      "source": [
        "### Change Directory"
      ]
    },
    {
      "cell_type": "code",
      "execution_count": 16,
      "metadata": {
        "id": "oPxjZUXP5fYE",
        "colab": {
          "base_uri": "https://localhost:8080/"
        },
        "outputId": "302f26ce-1e21-42f7-e81f-887ef21a1445"
      },
      "outputs": [
        {
          "output_type": "stream",
          "name": "stdout",
          "text": [
            "/content\n"
          ]
        }
      ],
      "source": [
        "# we can print present working directory\n",
        "!pwd\n",
        "# /content\n",
        "# started with / means this is an absolute path"
      ]
    },
    {
      "cell_type": "code",
      "source": [
        "# below is relative path\n",
        "!mkdir new_empty_directory/sample"
      ],
      "metadata": {
        "id": "8btTqfaqdeNR"
      },
      "execution_count": 12,
      "outputs": []
    },
    {
      "cell_type": "code",
      "execution_count": 8,
      "metadata": {
        "id": "GtnYPT_95zRj"
      },
      "outputs": [],
      "source": [
        "!cd new_empty_directory\n",
        "# It does not work, because jupyter notebook is in different environment"
      ]
    },
    {
      "cell_type": "code",
      "source": [
        "!ls"
      ],
      "metadata": {
        "colab": {
          "base_uri": "https://localhost:8080/"
        },
        "id": "nnNDoVq0d660",
        "outputId": "eca5d672-710a-4689-ea9c-4d0ce7a3cdfd"
      },
      "execution_count": 15,
      "outputs": [
        {
          "output_type": "stream",
          "name": "stdout",
          "text": [
            "new_empty_directory  sample_data\n"
          ]
        }
      ]
    },
    {
      "cell_type": "code",
      "execution_count": null,
      "metadata": {
        "id": "vtkaK5O75c1-",
        "colab": {
          "base_uri": "https://localhost:8080/"
        },
        "outputId": "842f6a9e-aa4e-4bcd-c7b9-9ae97e6ed73a"
      },
      "outputs": [
        {
          "output_type": "stream",
          "name": "stdout",
          "text": [
            "/content/new_empty_directory\n"
          ]
        }
      ],
      "source": [
        "# cd means change directory\n",
        "# You have to use jupyter function % to change directory of your jupyter environment\n",
        "%cd new_empty_directory"
      ]
    },
    {
      "cell_type": "markdown",
      "metadata": {
        "id": "7ABDYWoBZJyR"
      },
      "source": [
        "### List comprehension\n",
        "- With list comprehension, you can make the code shorter, and (usually) more readable"
      ]
    },
    {
      "cell_type": "markdown",
      "source": [],
      "metadata": {
        "id": "7yMNuwpVGuaP"
      }
    },
    {
      "cell_type": "code",
      "execution_count": 48,
      "metadata": {
        "id": "SaQgHL566rZx",
        "colab": {
          "base_uri": "https://localhost:8080/"
        },
        "outputId": "0c9af208-7ffd-49be-bd05-484720c96f02"
      },
      "outputs": [
        {
          "output_type": "execute_result",
          "data": {
            "text/plain": [
              "[6, 12, 14]"
            ]
          },
          "metadata": {},
          "execution_count": 48
        }
      ],
      "source": [
        "input_list = [3, 6, 7]\n",
        "\n",
        "# desired_output = [6, 12, 14]\n",
        "\n",
        "def double_the_list(alist: list):\n",
        "  return [x*2 for x in input_list]\n",
        "  blank_list = []\n",
        "  for i in input_list:\n",
        "    blank_list.append(i*2)\n",
        "  return blank_list\n",
        "\n",
        "\n",
        "  # in alist: list, : means type hint.\n",
        "  # hint is not mandatory, its optional\n",
        "\n",
        "\n",
        "\n",
        "output = double_the_list(input_list)\n",
        "# output == [6, 12, 14]\n",
        "output"
      ]
    },
    {
      "cell_type": "code",
      "source": [
        "[add(x,2) for x in input_list]"
      ],
      "metadata": {
        "colab": {
          "base_uri": "https://localhost:8080/"
        },
        "id": "CiVywcU_JuhJ",
        "outputId": "af329591-2d9f-4845-96f1-ed52fe10957d"
      },
      "execution_count": 43,
      "outputs": [
        {
          "output_type": "execute_result",
          "data": {
            "text/plain": [
              "[5, 8, 9]"
            ]
          },
          "metadata": {},
          "execution_count": 43
        }
      ]
    },
    {
      "cell_type": "code",
      "source": [
        "blank_list = []\n",
        "for i in input_list:\n",
        "  blank_list.append(i*2)\n",
        "blank_list\n",
        "None\n"
      ],
      "metadata": {
        "id": "EXNrMGAWhZ1a"
      },
      "execution_count": 27,
      "outputs": []
    },
    {
      "cell_type": "code",
      "execution_count": 52,
      "metadata": {
        "id": "1PXwukfL80x9",
        "colab": {
          "base_uri": "https://localhost:8080/"
        },
        "outputId": "4e45934d-9884-4aac-fc7c-b9b1f03081e8"
      },
      "outputs": [
        {
          "output_type": "execute_result",
          "data": {
            "text/plain": [
              "[True,\n",
              " True,\n",
              " True,\n",
              " False,\n",
              " False,\n",
              " False,\n",
              " False,\n",
              " False,\n",
              " False,\n",
              " False,\n",
              " False,\n",
              " False,\n",
              " False,\n",
              " False,\n",
              " False,\n",
              " False,\n",
              " False,\n",
              " False,\n",
              " False,\n",
              " False,\n",
              " False,\n",
              " False,\n",
              " False,\n",
              " False,\n",
              " False,\n",
              " False,\n",
              " False,\n",
              " False,\n",
              " False,\n",
              " False,\n",
              " False,\n",
              " False,\n",
              " False,\n",
              " False,\n",
              " False,\n",
              " False,\n",
              " False,\n",
              " False,\n",
              " False,\n",
              " False,\n",
              " False,\n",
              " False,\n",
              " False,\n",
              " False,\n",
              " False,\n",
              " False,\n",
              " False,\n",
              " False,\n",
              " False,\n",
              " False,\n",
              " False,\n",
              " False,\n",
              " False,\n",
              " False,\n",
              " False,\n",
              " False,\n",
              " False,\n",
              " False,\n",
              " False,\n",
              " False,\n",
              " False,\n",
              " False,\n",
              " False,\n",
              " False,\n",
              " False,\n",
              " False,\n",
              " False,\n",
              " False,\n",
              " False,\n",
              " False,\n",
              " False,\n",
              " False,\n",
              " False,\n",
              " False,\n",
              " False,\n",
              " False,\n",
              " False,\n",
              " False,\n",
              " False,\n",
              " False,\n",
              " False,\n",
              " False,\n",
              " False,\n",
              " False,\n",
              " False,\n",
              " False,\n",
              " False,\n",
              " False,\n",
              " False,\n",
              " False,\n",
              " False,\n",
              " False,\n",
              " False,\n",
              " False,\n",
              " False,\n",
              " False,\n",
              " False,\n",
              " False,\n",
              " False,\n",
              " False]"
            ]
          },
          "metadata": {},
          "execution_count": 52
        }
      ],
      "source": [
        "alist = list(range(100))\n",
        "# let's assume that we want only numbers that are not divided by 2 or 3\n",
        "def filter_list_by_division(alist):\n",
        "  return [x//2==0 or x//3==0 for x in alist]\n",
        "filter_list_by_division(alist)\n"
      ]
    },
    {
      "cell_type": "code",
      "execution_count": null,
      "metadata": {
        "id": "SqMZydnkB1BQ",
        "colab": {
          "base_uri": "https://localhost:8080/"
        },
        "outputId": "352fc552-c4a5-43b3-b5c3-f4f9ab2f6430"
      },
      "outputs": [
        {
          "output_type": "stream",
          "name": "stdout",
          "text": [
            "[0, 1, 2, 3, 4, 5, 6, 7, 8, 9, 10, 11, 12, 13, 14, 15, 16, 17, 18, 19, 20, 21, 22, 23, 24, 25, 26, 27, 28, 29, 30, 31, 32, 33, 34, 35, 36, 37, 38, 39, 40, 41, 42, 43, 44, 45, 46, 47, 48, 49, 50, 51, 52, 53, 54, 55, 56, 57, 58, 59, 60, 61, 62, 63, 64, 65, 66, 67, 68, 69, 70, 71, 72, 73, 74, 75, 76, 77, 78, 79, 80, 81, 82, 83, 84, 85, 86, 87, 88, 89, 90, 91, 92, 93, 94, 95, 96, 97, 98, 99]\n"
          ]
        }
      ],
      "source": [
        "print(alist)"
      ]
    },
    {
      "cell_type": "code",
      "execution_count": null,
      "metadata": {
        "collapsed": true,
        "id": "-Y6FOGi_-B3M"
      },
      "outputs": [],
      "source": [
        "# Implement it with list comprehension"
      ]
    },
    {
      "cell_type": "code",
      "source": [
        "list_number = list(range(50))\n",
        "list_number\n",
        "\n",
        "new_list =[]\n",
        "for x in list_number:\n",
        "  if x%2 == 0:\n",
        "    new_list.append(x)\n",
        "  else:\n",
        "    new_list.append(0)\n",
        "new_list\n",
        "\n",
        "another_list = [x if (x%2 == 0) else 0 for x in list_number]\n",
        "another_list"
      ],
      "metadata": {
        "id": "rmoMRwWRFSnN",
        "outputId": "404fa9ab-4008-4542-e12a-33d38710ac3e",
        "colab": {
          "base_uri": "https://localhost:8080/"
        }
      },
      "execution_count": null,
      "outputs": [
        {
          "output_type": "execute_result",
          "data": {
            "text/plain": [
              "[0,\n",
              " 0,\n",
              " 2,\n",
              " 0,\n",
              " 4,\n",
              " 0,\n",
              " 6,\n",
              " 0,\n",
              " 8,\n",
              " 0,\n",
              " 10,\n",
              " 0,\n",
              " 12,\n",
              " 0,\n",
              " 14,\n",
              " 0,\n",
              " 16,\n",
              " 0,\n",
              " 18,\n",
              " 0,\n",
              " 20,\n",
              " 0,\n",
              " 22,\n",
              " 0,\n",
              " 24,\n",
              " 0,\n",
              " 26,\n",
              " 0,\n",
              " 28,\n",
              " 0,\n",
              " 30,\n",
              " 0,\n",
              " 32,\n",
              " 0,\n",
              " 34,\n",
              " 0,\n",
              " 36,\n",
              " 0,\n",
              " 38,\n",
              " 0,\n",
              " 40,\n",
              " 0,\n",
              " 42,\n",
              " 0,\n",
              " 44,\n",
              " 0,\n",
              " 46,\n",
              " 0,\n",
              " 48,\n",
              " 0]"
            ]
          },
          "metadata": {},
          "execution_count": 7
        }
      ]
    },
    {
      "cell_type": "code",
      "execution_count": null,
      "metadata": {
        "id": "6jU5_a3j_IKZ",
        "colab": {
          "base_uri": "https://localhost:8080/"
        },
        "outputId": "f13fc0a7-8ec9-4da3-f5fc-47dfec60a097"
      },
      "outputs": [
        {
          "output_type": "execute_result",
          "data": {
            "text/plain": [
              "['tomato penne',\n",
              " 'tomato spaghetti',\n",
              " 'tomato linguine',\n",
              " 'cream penne',\n",
              " 'cream spaghetti',\n",
              " 'cream linguine',\n",
              " 'pesto penne',\n",
              " 'pesto spaghetti',\n",
              " 'pesto linguine']"
            ]
          },
          "metadata": {},
          "execution_count": 12
        }
      ],
      "source": [
        "# We can do nested for loop\n",
        "sauce_list = [\"tomato\", \"cream\", 'pesto']\n",
        "pasta_list = ['penne', 'spaghetti', 'linguine']\n",
        "\n",
        "meal = []\n",
        "for sauce in sauce_list:\n",
        "  for pasta in pasta_list:\n",
        "    meal.append(sauce + ' '+ pasta)\n",
        "meal\n",
        "\n",
        "meal = [sauce+' '+pasta for sauce in sauce_list for pasta in pasta_list]\n",
        "meal"
      ]
    },
    {
      "cell_type": "code",
      "execution_count": null,
      "metadata": {
        "id": "rh6FdCk-AHuV",
        "colab": {
          "base_uri": "https://localhost:8080/"
        },
        "outputId": "29bcb687-bb99-443c-c3bc-d9a72e8de040"
      },
      "outputs": [
        {
          "output_type": "execute_result",
          "data": {
            "text/plain": [
              "[1, 1, 2, 3, 5, 8, 13, 21, 34, 55]"
            ]
          },
          "metadata": {},
          "execution_count": 16
        }
      ],
      "source": [
        "# There is something that you cannot implement with list comprehension\n",
        "# fibonacci sequence\n",
        "# 1, 1, 2, 3, 5, 8, 13, 21, 34,\n",
        "# s_i = s_{i-1} + s_{i+2}\n",
        "\n",
        "# make next 100 numbers in fibonacci sequence.\n",
        "seq = [1, 1]\n",
        "\n",
        "N = 100\n",
        "n = 0\n",
        "while n < N:\n",
        "  seq.append(seq[-2]+seq[-1])\n",
        "  n += 1\n",
        "seq[0:10]"
      ]
    },
    {
      "cell_type": "markdown",
      "metadata": {
        "id": "8VnzJHFBY2A1"
      },
      "source": []
    }
  ],
  "metadata": {
    "colab": {
      "provenance": [],
      "include_colab_link": true
    },
    "kernelspec": {
      "display_name": "Python 3",
      "name": "python3"
    },
    "language_info": {
      "name": "python"
    }
  },
  "nbformat": 4,
  "nbformat_minor": 0
}